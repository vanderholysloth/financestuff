{
 "cells": [
  {
   "cell_type": "code",
   "execution_count": 1,
   "id": "6c93b431",
   "metadata": {},
   "outputs": [],
   "source": [
    "from bs4 import BeautifulSoup\n",
    "import requests"
   ]
  },
  {
   "cell_type": "code",
   "execution_count": 10,
   "id": "2543761b",
   "metadata": {},
   "outputs": [],
   "source": [
    "url = 'https://www.ishares.com/us/products/239467/ishares-tips-bond-etf'\n",
    "html = requests.get(url)\n",
    "s = BeautifulSoup(html.content, 'html.parser')\n",
    "\n",
    "results = s.find(id = 'fundheaderTabs')\n",
    "iShare_tips = results.find_all('span',class_='header-nav-data')\n",
    "\n",
    "#Price as of T date. \n",
    "ishare_tips = iShare_tips[0].text\n",
    "#one day nav change\n",
    "ishare_tips_nav = iShare_tips[1].text\n",
    "#NAV YTD total return\n",
    "ishare_tips_ytd = iShare_tips[2].text\n",
    "#Expense Ratio \n",
    "ishare_tips_er = iShare_tips[3].text\n",
    "ishares_finish = \"iShare TIPS Bond ETF:\" + ishare_tips"
   ]
  },
  {
   "cell_type": "code",
   "execution_count": 26,
   "id": "c49be5d1",
   "metadata": {},
   "outputs": [],
   "source": [
    "results_yr = s.find(id = 'averageTabs')\n",
    "oneyear_tips = results_yr.find_all('td',class_='oneYearAnnualized')\n",
    "threeyear_tips = results_yr.find_all('td',class_='threeYearAnnualized')\n",
    "fiveyear_tips = results_yr.find_all('td',class_='fiveYearAnnualized')\n",
    "### Year by Year results\n",
    "oneyear_tips_results = oneyear_tips[0].text\n",
    "threeyear_tips_results = threeyear_tips[0].text\n",
    "fiveyear_tips_results = fiveyear_tips[0].text\n"
   ]
  },
  {
   "cell_type": "code",
   "execution_count": 33,
   "id": "d56136e7",
   "metadata": {},
   "outputs": [
    {
     "name": "stdout",
     "output_type": "stream",
     "text": [
      "Daily Price:\n",
      "$108.21\n",
      "\n",
      "Daily Movement:\n",
      "-0.94\n",
      "(-0.86%)\n",
      "\n",
      "YTD: \n",
      "2.62%\n",
      "\n",
      "1 Year results:\n",
      "-12.13\n",
      "\n",
      "3 Year results:\n",
      "0.94\n",
      "\n",
      "5 Year results:\n",
      "1.88\n",
      "\n"
     ]
    }
   ],
   "source": [
    "print('Daily Price:' + ishare_tips)\n",
    "print('Daily Movement:' + ishare_tips_nav)\n",
    "print('YTD: ' + ishare_tips_ytd)\n",
    "\n",
    "print('1 Year results:' + oneyear_tips_results)\n",
    "print('3 Year results:' + threeyear_tips_results)\n",
    "print('5 Year results:' + fiveyear_tips_results)"
   ]
  },
  {
   "cell_type": "code",
   "execution_count": null,
   "id": "33ba217f",
   "metadata": {},
   "outputs": [],
   "source": []
  }
 ],
 "metadata": {
  "kernelspec": {
   "display_name": "Python 3",
   "language": "python",
   "name": "python3"
  },
  "language_info": {
   "codemirror_mode": {
    "name": "ipython",
    "version": 3
   },
   "file_extension": ".py",
   "mimetype": "text/x-python",
   "name": "python",
   "nbconvert_exporter": "python",
   "pygments_lexer": "ipython3",
   "version": "3.8.8"
  }
 },
 "nbformat": 4,
 "nbformat_minor": 5
}
